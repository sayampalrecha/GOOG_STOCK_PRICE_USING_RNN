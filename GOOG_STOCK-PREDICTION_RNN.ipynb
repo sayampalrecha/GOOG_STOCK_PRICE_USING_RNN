{
 "cells": [
  {
   "cell_type": "markdown",
   "id": "3944aa7f",
   "metadata": {},
   "source": [
    " # Recurrent Neural Network"
   ]
  },
  {
   "cell_type": "markdown",
   "id": "c74d67de",
   "metadata": {},
   "source": [
    "# Part 1 - Data Preprocessing¶"
   ]
  },
  {
   "cell_type": "code",
   "execution_count": 1,
   "id": "d60c9a3b",
   "metadata": {},
   "outputs": [],
   "source": [
    "# Importing Libraries\n",
    "import numpy as np\n",
    "import matplotlib.pyplot as plt\n",
    "import pandas as pd"
   ]
  },
  {
   "cell_type": "code",
   "execution_count": 2,
   "id": "5533e4ad",
   "metadata": {},
   "outputs": [],
   "source": [
    "# Traing Set \n",
    "dataset_train = pd.read_csv('Google_Stock_Price_Train.csv')\n",
    "training_set = dataset_train.iloc[:, 1:2].values"
   ]
  },
  {
   "cell_type": "code",
   "execution_count": 3,
   "id": "77bf6e8d",
   "metadata": {},
   "outputs": [],
   "source": [
    "# Feature Scaling\n",
    "from sklearn.preprocessing import MinMaxScaler\n",
    "sc = MinMaxScaler(feature_range = (0, 1))\n",
    "training_set_scaled = sc.fit_transform(training_set)"
   ]
  },
  {
   "cell_type": "code",
   "execution_count": 4,
   "id": "d4b1afaf",
   "metadata": {},
   "outputs": [],
   "source": [
    "# Creating a data structure with 60 timesteps and 1 output\n",
    "X_train = []\n",
    "y_train = []\n",
    "for i in range(60, 1258):\n",
    "    X_train.append(training_set_scaled[i-60:i, 0])\n",
    "    y_train.append(training_set_scaled[i, 0])\n",
    "X_train, y_train = np.array(X_train), np.array(y_train)"
   ]
  },
  {
   "cell_type": "code",
   "execution_count": 5,
   "id": "a43146fb",
   "metadata": {},
   "outputs": [],
   "source": [
    "# Reshaping\n",
    "X_train = np.reshape(X_train, (X_train.shape[0], X_train.shape[1], 1))"
   ]
  },
  {
   "cell_type": "markdown",
   "id": "017147a4",
   "metadata": {},
   "source": [
    "## Part 2 - Building and Training the RNN"
   ]
  },
  {
   "cell_type": "code",
   "execution_count": 17,
   "id": "f4a9986f",
   "metadata": {},
   "outputs": [],
   "source": [
    "from keras.models import Sequential\n",
    "from keras.layers import Dense\n",
    "from keras.layers import LSTM\n",
    "from keras.layers import Dropout"
   ]
  },
  {
   "cell_type": "code",
   "execution_count": 18,
   "id": "728500e4",
   "metadata": {},
   "outputs": [],
   "source": [
    "# Initialising the RNN¶\n",
    "regressor = Sequential()"
   ]
  },
  {
   "cell_type": "code",
   "execution_count": 19,
   "id": "e2e49ace",
   "metadata": {},
   "outputs": [],
   "source": [
    "# Adding the first LSTM layer and some Dropout regularisation\n",
    "regressor.add(LSTM(units = 50, return_sequences = True, input_shape = (X_train.shape[1], 1)))\n",
    "regressor.add(Dropout(0.2))"
   ]
  },
  {
   "cell_type": "code",
   "execution_count": 20,
   "id": "fc420e78",
   "metadata": {},
   "outputs": [],
   "source": [
    "# SECOND LAYER\n",
    "regressor.add(LSTM(units = 50, return_sequences = True))\n",
    "regressor.add(Dropout(0.2))"
   ]
  },
  {
   "cell_type": "code",
   "execution_count": 21,
   "id": "c38716f6",
   "metadata": {},
   "outputs": [],
   "source": [
    "# THIRD LAYER\n",
    "regressor.add(LSTM(units = 50, return_sequences = True))\n",
    "regressor.add(Dropout(0.2))"
   ]
  },
  {
   "cell_type": "code",
   "execution_count": 22,
   "id": "83fcff02",
   "metadata": {},
   "outputs": [],
   "source": [
    "# Adding a fourth LSTM layer and some Dropout regularisation\n",
    "regressor.add(LSTM(units = 50))\n",
    "regressor.add(Dropout(0.2))"
   ]
  },
  {
   "cell_type": "code",
   "execution_count": 23,
   "id": "8b509640",
   "metadata": {},
   "outputs": [],
   "source": [
    "# Adding the output layer\\\n",
    "regressor.add(Dense(units = 1))"
   ]
  },
  {
   "cell_type": "code",
   "execution_count": 24,
   "id": "291534d9",
   "metadata": {},
   "outputs": [],
   "source": [
    "# Compiling the RNN\n",
    "regressor.compile(optimizer = 'adam', loss = 'mean_squared_error')"
   ]
  },
  {
   "cell_type": "code",
   "execution_count": 25,
   "id": "0bbf81bb",
   "metadata": {
    "scrolled": true
   },
   "outputs": [
    {
     "name": "stdout",
     "output_type": "stream",
     "text": [
      "Epoch 1/44\n"
     ]
    },
    {
     "name": "stderr",
     "output_type": "stream",
     "text": [
      "2022-12-12 14:43:53.907783: I tensorflow/core/grappler/optimizers/custom_graph_optimizer_registry.cc:114] Plugin optimizer for device_type GPU is enabled.\n",
      "2022-12-12 14:43:54.120847: I tensorflow/core/grappler/optimizers/custom_graph_optimizer_registry.cc:114] Plugin optimizer for device_type GPU is enabled.\n",
      "2022-12-12 14:43:54.187273: I tensorflow/core/grappler/optimizers/custom_graph_optimizer_registry.cc:114] Plugin optimizer for device_type GPU is enabled.\n",
      "2022-12-12 14:43:54.255265: I tensorflow/core/grappler/optimizers/custom_graph_optimizer_registry.cc:114] Plugin optimizer for device_type GPU is enabled.\n",
      "2022-12-12 14:43:54.323745: I tensorflow/core/grappler/optimizers/custom_graph_optimizer_registry.cc:114] Plugin optimizer for device_type GPU is enabled.\n",
      "2022-12-12 14:43:54.410015: I tensorflow/core/grappler/optimizers/custom_graph_optimizer_registry.cc:114] Plugin optimizer for device_type GPU is enabled.\n",
      "2022-12-12 14:43:54.531444: I tensorflow/core/grappler/optimizers/custom_graph_optimizer_registry.cc:114] Plugin optimizer for device_type GPU is enabled.\n",
      "2022-12-12 14:43:54.649140: I tensorflow/core/grappler/optimizers/custom_graph_optimizer_registry.cc:114] Plugin optimizer for device_type GPU is enabled.\n"
     ]
    },
    {
     "name": "stdout",
     "output_type": "stream",
     "text": [
      " 2/38 [>.............................] - ETA: 1s - loss: 0.3209  "
     ]
    },
    {
     "name": "stderr",
     "output_type": "stream",
     "text": [
      "2022-12-12 14:43:54.767829: I tensorflow/core/grappler/optimizers/custom_graph_optimizer_registry.cc:114] Plugin optimizer for device_type GPU is enabled.\n"
     ]
    },
    {
     "name": "stdout",
     "output_type": "stream",
     "text": [
      "38/38 [==============================] - 4s 60ms/step - loss: 0.0415\n",
      "Epoch 2/44\n",
      "38/38 [==============================] - 2s 45ms/step - loss: 0.0045\n",
      "Epoch 3/44\n",
      "38/38 [==============================] - 2s 46ms/step - loss: 0.0033\n",
      "Epoch 4/44\n",
      "38/38 [==============================] - 2s 46ms/step - loss: 0.0024\n",
      "Epoch 5/44\n",
      "38/38 [==============================] - 2s 47ms/step - loss: 0.0023\n",
      "Epoch 6/44\n",
      "38/38 [==============================] - 2s 46ms/step - loss: 0.0020\n",
      "Epoch 7/44\n",
      "38/38 [==============================] - 2s 47ms/step - loss: 0.0019\n",
      "Epoch 8/44\n",
      "38/38 [==============================] - 2s 46ms/step - loss: 0.0018\n",
      "Epoch 9/44\n",
      "38/38 [==============================] - 2s 46ms/step - loss: 0.0017\n",
      "Epoch 10/44\n",
      "38/38 [==============================] - 2s 46ms/step - loss: 0.0017\n",
      "Epoch 11/44\n",
      "38/38 [==============================] - 2s 46ms/step - loss: 0.0016\n",
      "Epoch 12/44\n",
      "38/38 [==============================] - 2s 46ms/step - loss: 0.0016\n",
      "Epoch 13/44\n",
      "38/38 [==============================] - 2s 46ms/step - loss: 0.0019\n",
      "Epoch 14/44\n",
      "38/38 [==============================] - 2s 47ms/step - loss: 0.0017\n",
      "Epoch 15/44\n",
      "38/38 [==============================] - 2s 48ms/step - loss: 0.0016\n",
      "Epoch 16/44\n",
      "38/38 [==============================] - 2s 48ms/step - loss: 0.0016\n",
      "Epoch 17/44\n",
      "38/38 [==============================] - 2s 46ms/step - loss: 0.0014\n",
      "Epoch 18/44\n",
      "38/38 [==============================] - 2s 46ms/step - loss: 0.0015\n",
      "Epoch 19/44\n",
      "38/38 [==============================] - 2s 47ms/step - loss: 0.0015\n",
      "Epoch 20/44\n",
      "38/38 [==============================] - 2s 47ms/step - loss: 0.0016\n",
      "Epoch 21/44\n",
      "38/38 [==============================] - 2s 45ms/step - loss: 0.0014\n",
      "Epoch 22/44\n",
      "38/38 [==============================] - 2s 46ms/step - loss: 0.0015\n",
      "Epoch 23/44\n",
      "38/38 [==============================] - 2s 46ms/step - loss: 0.0014\n",
      "Epoch 24/44\n",
      "38/38 [==============================] - 2s 45ms/step - loss: 0.0012\n",
      "Epoch 25/44\n",
      "38/38 [==============================] - 2s 46ms/step - loss: 0.0013\n",
      "Epoch 26/44\n",
      "38/38 [==============================] - 2s 46ms/step - loss: 0.0014\n",
      "Epoch 27/44\n",
      "38/38 [==============================] - 2s 46ms/step - loss: 0.0014\n",
      "Epoch 28/44\n",
      "38/38 [==============================] - 2s 46ms/step - loss: 0.0016\n",
      "Epoch 29/44\n",
      "38/38 [==============================] - 2s 46ms/step - loss: 0.0013\n",
      "Epoch 30/44\n",
      "38/38 [==============================] - 2s 46ms/step - loss: 0.0013\n",
      "Epoch 31/44\n",
      "38/38 [==============================] - 2s 46ms/step - loss: 0.0012\n",
      "Epoch 32/44\n",
      "38/38 [==============================] - 2s 46ms/step - loss: 0.0012\n",
      "Epoch 33/44\n",
      "38/38 [==============================] - 2s 46ms/step - loss: 0.0013\n",
      "Epoch 34/44\n",
      "38/38 [==============================] - 2s 46ms/step - loss: 0.0012\n",
      "Epoch 35/44\n",
      "38/38 [==============================] - 2s 46ms/step - loss: 0.0012\n",
      "Epoch 36/44\n",
      "38/38 [==============================] - 2s 46ms/step - loss: 0.0011\n",
      "Epoch 37/44\n",
      "38/38 [==============================] - 2s 46ms/step - loss: 0.0010\n",
      "Epoch 38/44\n",
      "38/38 [==============================] - 2s 46ms/step - loss: 0.0013\n",
      "Epoch 39/44\n",
      "38/38 [==============================] - 2s 46ms/step - loss: 0.0011\n",
      "Epoch 40/44\n",
      "38/38 [==============================] - 2s 47ms/step - loss: 0.0010\n",
      "Epoch 41/44\n",
      "38/38 [==============================] - 2s 48ms/step - loss: 0.0010\n",
      "Epoch 42/44\n",
      "38/38 [==============================] - 2s 47ms/step - loss: 0.0011\n",
      "Epoch 43/44\n",
      "38/38 [==============================] - 2s 47ms/step - loss: 9.6072e-04\n",
      "Epoch 44/44\n",
      "38/38 [==============================] - 2s 48ms/step - loss: 0.0011\n"
     ]
    },
    {
     "data": {
      "text/plain": [
       "<keras.callbacks.History at 0x2994aa7c0>"
      ]
     },
     "execution_count": 25,
     "metadata": {},
     "output_type": "execute_result"
    }
   ],
   "source": [
    "# Fitting the RNN to the Training set\n",
    "regressor.fit(X_train, y_train, epochs = 44, batch_size = 32)"
   ]
  },
  {
   "cell_type": "markdown",
   "id": "4602149b",
   "metadata": {},
   "source": [
    "# Part 3 - Making the predictions and visualising the results"
   ]
  },
  {
   "cell_type": "code",
   "execution_count": 26,
   "id": "8eb36951",
   "metadata": {},
   "outputs": [],
   "source": [
    "# Getting the real stock price of 2017\n",
    "dataset_test = pd.read_csv('Google_Stock_Price_Test.csv')\n",
    "real_stock_price = dataset_test.iloc[:, 1:2].values"
   ]
  },
  {
   "cell_type": "code",
   "execution_count": 27,
   "id": "b0f98f3c",
   "metadata": {},
   "outputs": [
    {
     "name": "stderr",
     "output_type": "stream",
     "text": [
      "/var/folders/zp/7qktvyk137s1mql4gxlf81s40000gn/T/ipykernel_2101/4000627586.py:4: FutureWarning: The behavior of `series[i:j]` with an integer-dtype index is deprecated. In a future version, this will be treated as *label-based* indexing, consistent with e.g. `series[i]` lookups. To retain the old behavior, use `series.iloc[i:j]`. To get the future behavior, use `series.loc[i:j]`.\n",
      "  inputs = dataset_total[len(dataset_total) - len(dataset_test) - 60:].values\n",
      "2022-12-12 14:45:42.074002: I tensorflow/core/grappler/optimizers/custom_graph_optimizer_registry.cc:114] Plugin optimizer for device_type GPU is enabled.\n",
      "2022-12-12 14:45:42.146098: I tensorflow/core/grappler/optimizers/custom_graph_optimizer_registry.cc:114] Plugin optimizer for device_type GPU is enabled.\n",
      "2022-12-12 14:45:42.214926: I tensorflow/core/grappler/optimizers/custom_graph_optimizer_registry.cc:114] Plugin optimizer for device_type GPU is enabled.\n"
     ]
    },
    {
     "name": "stdout",
     "output_type": "stream",
     "text": [
      "1/1 [==============================] - 1s 623ms/step\n"
     ]
    },
    {
     "name": "stderr",
     "output_type": "stream",
     "text": [
      "2022-12-12 14:45:42.286279: I tensorflow/core/grappler/optimizers/custom_graph_optimizer_registry.cc:114] Plugin optimizer for device_type GPU is enabled.\n",
      "2022-12-12 14:45:42.350949: I tensorflow/core/grappler/optimizers/custom_graph_optimizer_registry.cc:114] Plugin optimizer for device_type GPU is enabled.\n"
     ]
    }
   ],
   "source": [
    "# Getting the predicted stock price of 2017\n",
    "\n",
    "dataset_total = pd.concat((dataset_train['Open'], dataset_test['Open']), axis = 0)\n",
    "inputs = dataset_total[len(dataset_total) - len(dataset_test) - 60:].values\n",
    "inputs = inputs.reshape(-1,1)\n",
    "inputs = sc.transform(inputs)\n",
    "X_test = []\n",
    "for i in range(60, 80):\n",
    "    X_test.append(inputs[i-60:i, 0])\n",
    "X_test = np.array(X_test)\n",
    "X_test = np.reshape(X_test, (X_test.shape[0], X_test.shape[1], 1))\n",
    "predicted_stock_price = regressor.predict(X_test)\n",
    "predicted_stock_price = sc.inverse_transform(predicted_stock_price)"
   ]
  },
  {
   "cell_type": "code",
   "execution_count": 28,
   "id": "ef29a11e",
   "metadata": {},
   "outputs": [
    {
     "data": {
      "image/png": "[encoded data removed]",
      "text/plain": [
       "<Figure size 640x480 with 1 Axes>"
      ]
     },
     "metadata": {},
     "output_type": "display_data"
    }
   ],
   "source": [
    "plt.plot(real_stock_price, color = 'red', label = 'Real Google Stock Price')\n",
    "plt.plot(predicted_stock_price, color = 'blue', label = 'Predicted Google Stock Price')\n",
    "plt.title('Google Stock Price Prediction')\n",
    "plt.xlabel('Time')\n",
    "plt.ylabel('Google Stock Price')\n",
    "plt.legend()\n",
    "plt.show()"
   ]
  },
  {
   "cell_type": "code",
   "execution_count": null,
   "id": "d511173d",
   "metadata": {},
   "outputs": [],
   "source": []
  }
 ],
 "metadata": {
  "kernelspec": {
   "display_name": "Python 3.9 (tensorflow)",
   "language": "python",
   "name": "tensorflow"
  },
  "language_info": {
   "codemirror_mode": {
    "name": "ipython",
    "version": 3
   },
   "file_extension": ".py",
   "mimetype": "text/x-python",
   "name": "python",
   "nbconvert_exporter": "python",
   "pygments_lexer": "ipython3",
   "version": "3.9.15"
  }
 },
 "nbformat": 4,
 "nbformat_minor": 5
}
